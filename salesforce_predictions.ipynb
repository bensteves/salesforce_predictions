{
 "cells": [
  {
   "cell_type": "markdown",
   "id": "d5f9eda0",
   "metadata": {},
   "source": [
    "# Working with time series"
   ]
  },
  {
   "cell_type": "markdown",
   "id": "9077b3aa",
   "metadata": {},
   "source": [
    "The hope for this project is to practice using time series using three different approaches - ARIMA time series Analysis, Bayesian time series, and LSTM (hopefully in fastai - may have to be configured separately since it runs on a GPU). "
   ]
  },
  {
   "cell_type": "markdown",
   "id": "16f63701",
   "metadata": {},
   "source": [
    "#### Import libraries"
   ]
  },
  {
   "cell_type": "code",
   "execution_count": 1,
   "id": "29179706",
   "metadata": {},
   "outputs": [],
   "source": [
    "#MCMC/ARIMA packages\n",
    "import pymc3 as pm\n",
    "import pmdarima as ar\n",
    "import arviz as az\n",
    "from statsmodels.tsa.stattools import adfuller\n",
    "\n",
    "#plotting\n",
    "import seaborn as sns\n",
    "import matplotlib.pyplot as plt\n",
    "\n",
    "#data wrangling\n",
    "import pandas as pd\n",
    "import numpy as np"
   ]
  },
  {
   "cell_type": "markdown",
   "id": "e4e3ca56",
   "metadata": {},
   "source": [
    "This is just monthly stock trend data for Salesforce (CRM), obtained from yahoo https://finance.yahoo.com/quote/crm/history/"
   ]
  },
  {
   "cell_type": "code",
   "execution_count": 2,
   "id": "ab9acbfe",
   "metadata": {},
   "outputs": [],
   "source": [
    "CRM = pd.read_csv('data/CRM_daily.csv', index_col='Date',parse_dates=True)"
   ]
  },
  {
   "cell_type": "code",
   "execution_count": 3,
   "id": "3ef1e84f",
   "metadata": {},
   "outputs": [
    {
     "data": {
      "text/html": [
       "<div>\n",
       "<style scoped>\n",
       "    .dataframe tbody tr th:only-of-type {\n",
       "        vertical-align: middle;\n",
       "    }\n",
       "\n",
       "    .dataframe tbody tr th {\n",
       "        vertical-align: top;\n",
       "    }\n",
       "\n",
       "    .dataframe thead th {\n",
       "        text-align: right;\n",
       "    }\n",
       "</style>\n",
       "<table border=\"1\" class=\"dataframe\">\n",
       "  <thead>\n",
       "    <tr style=\"text-align: right;\">\n",
       "      <th></th>\n",
       "      <th>Open</th>\n",
       "      <th>High</th>\n",
       "      <th>Low</th>\n",
       "      <th>Close</th>\n",
       "      <th>Adj Close</th>\n",
       "      <th>Volume</th>\n",
       "    </tr>\n",
       "    <tr>\n",
       "      <th>Date</th>\n",
       "      <th></th>\n",
       "      <th></th>\n",
       "      <th></th>\n",
       "      <th></th>\n",
       "      <th></th>\n",
       "      <th></th>\n",
       "    </tr>\n",
       "  </thead>\n",
       "  <tbody>\n",
       "    <tr>\n",
       "      <th>2004-06-23</th>\n",
       "      <td>3.7500</td>\n",
       "      <td>4.3250</td>\n",
       "      <td>3.6875</td>\n",
       "      <td>4.3000</td>\n",
       "      <td>4.3000</td>\n",
       "      <td>43574400</td>\n",
       "    </tr>\n",
       "    <tr>\n",
       "      <th>2004-06-24</th>\n",
       "      <td>4.3875</td>\n",
       "      <td>4.4225</td>\n",
       "      <td>4.1250</td>\n",
       "      <td>4.1900</td>\n",
       "      <td>4.1900</td>\n",
       "      <td>8887200</td>\n",
       "    </tr>\n",
       "    <tr>\n",
       "      <th>2004-06-25</th>\n",
       "      <td>4.1275</td>\n",
       "      <td>4.1875</td>\n",
       "      <td>3.9475</td>\n",
       "      <td>3.9500</td>\n",
       "      <td>3.9500</td>\n",
       "      <td>6710000</td>\n",
       "    </tr>\n",
       "    <tr>\n",
       "      <th>2004-06-28</th>\n",
       "      <td>4.0000</td>\n",
       "      <td>4.0525</td>\n",
       "      <td>3.8600</td>\n",
       "      <td>4.0000</td>\n",
       "      <td>4.0000</td>\n",
       "      <td>2270800</td>\n",
       "    </tr>\n",
       "    <tr>\n",
       "      <th>2004-06-29</th>\n",
       "      <td>4.0000</td>\n",
       "      <td>4.1750</td>\n",
       "      <td>3.9575</td>\n",
       "      <td>4.1000</td>\n",
       "      <td>4.1000</td>\n",
       "      <td>2112000</td>\n",
       "    </tr>\n",
       "    <tr>\n",
       "      <th>2004-06-30</th>\n",
       "      <td>4.1000</td>\n",
       "      <td>4.2350</td>\n",
       "      <td>4.0075</td>\n",
       "      <td>4.0175</td>\n",
       "      <td>4.0175</td>\n",
       "      <td>2087600</td>\n",
       "    </tr>\n",
       "    <tr>\n",
       "      <th>2004-07-01</th>\n",
       "      <td>4.0200</td>\n",
       "      <td>4.0500</td>\n",
       "      <td>3.9750</td>\n",
       "      <td>4.0075</td>\n",
       "      <td>4.0075</td>\n",
       "      <td>1754800</td>\n",
       "    </tr>\n",
       "    <tr>\n",
       "      <th>2004-07-02</th>\n",
       "      <td>4.0250</td>\n",
       "      <td>4.2450</td>\n",
       "      <td>4.0125</td>\n",
       "      <td>4.2450</td>\n",
       "      <td>4.2450</td>\n",
       "      <td>993200</td>\n",
       "    </tr>\n",
       "    <tr>\n",
       "      <th>2004-07-06</th>\n",
       "      <td>4.2325</td>\n",
       "      <td>4.2500</td>\n",
       "      <td>4.1200</td>\n",
       "      <td>4.2500</td>\n",
       "      <td>4.2500</td>\n",
       "      <td>1216800</td>\n",
       "    </tr>\n",
       "    <tr>\n",
       "      <th>2004-07-07</th>\n",
       "      <td>4.2250</td>\n",
       "      <td>4.2250</td>\n",
       "      <td>4.0125</td>\n",
       "      <td>4.0775</td>\n",
       "      <td>4.0775</td>\n",
       "      <td>1787600</td>\n",
       "    </tr>\n",
       "    <tr>\n",
       "      <th>2004-07-08</th>\n",
       "      <td>4.0775</td>\n",
       "      <td>4.0775</td>\n",
       "      <td>3.9150</td>\n",
       "      <td>3.9350</td>\n",
       "      <td>3.9350</td>\n",
       "      <td>2179200</td>\n",
       "    </tr>\n",
       "    <tr>\n",
       "      <th>2004-07-09</th>\n",
       "      <td>3.9850</td>\n",
       "      <td>4.1425</td>\n",
       "      <td>3.9750</td>\n",
       "      <td>4.1000</td>\n",
       "      <td>4.1000</td>\n",
       "      <td>596800</td>\n",
       "    </tr>\n",
       "  </tbody>\n",
       "</table>\n",
       "</div>"
      ],
      "text/plain": [
       "              Open    High     Low   Close  Adj Close    Volume\n",
       "Date                                                           \n",
       "2004-06-23  3.7500  4.3250  3.6875  4.3000     4.3000  43574400\n",
       "2004-06-24  4.3875  4.4225  4.1250  4.1900     4.1900   8887200\n",
       "2004-06-25  4.1275  4.1875  3.9475  3.9500     3.9500   6710000\n",
       "2004-06-28  4.0000  4.0525  3.8600  4.0000     4.0000   2270800\n",
       "2004-06-29  4.0000  4.1750  3.9575  4.1000     4.1000   2112000\n",
       "2004-06-30  4.1000  4.2350  4.0075  4.0175     4.0175   2087600\n",
       "2004-07-01  4.0200  4.0500  3.9750  4.0075     4.0075   1754800\n",
       "2004-07-02  4.0250  4.2450  4.0125  4.2450     4.2450    993200\n",
       "2004-07-06  4.2325  4.2500  4.1200  4.2500     4.2500   1216800\n",
       "2004-07-07  4.2250  4.2250  4.0125  4.0775     4.0775   1787600\n",
       "2004-07-08  4.0775  4.0775  3.9150  3.9350     3.9350   2179200\n",
       "2004-07-09  3.9850  4.1425  3.9750  4.1000     4.1000    596800"
      ]
     },
     "execution_count": 3,
     "metadata": {},
     "output_type": "execute_result"
    }
   ],
   "source": [
    "CRM.head(12)"
   ]
  },
  {
   "cell_type": "code",
   "execution_count": 4,
   "id": "6e087cc8",
   "metadata": {},
   "outputs": [
    {
     "data": {
      "text/plain": [
       "(4441, 6)"
      ]
     },
     "execution_count": 4,
     "metadata": {},
     "output_type": "execute_result"
    }
   ],
   "source": [
    "CRM.shape"
   ]
  },
  {
   "cell_type": "code",
   "execution_count": 5,
   "id": "ad073253",
   "metadata": {},
   "outputs": [
    {
     "data": {
      "image/png": "[encoded data removed]",
      "text/plain": [
       "<Figure size 1080x576 with 1 Axes>"
      ]
     },
     "metadata": {},
     "output_type": "display_data"
    }
   ],
   "source": [
    "sns.set_theme()\n",
    "sns.set(rc = {'figure.figsize':(15,8)})\n",
    "p1 = sns.lineplot(\n",
    "    data = CRM,\n",
    "    x = \"Date\", y = \"Close\"\n",
    ")"
   ]
  },
  {
   "cell_type": "code",
   "execution_count": 6,
   "id": "268b96bb",
   "metadata": {},
   "outputs": [
    {
     "data": {
      "text/plain": [
       "<seaborn.axisgrid.FacetGrid at 0x7f81e09d8e20>"
      ]
     },
     "execution_count": 6,
     "metadata": {},
     "output_type": "execute_result"
    },
    {
     "data": {
      "image/png": "[encoded data removed]",
      "text/plain": [
       "<Figure size 360x360 with 1 Axes>"
      ]
     },
     "metadata": {},
     "output_type": "display_data"
    }
   ],
   "source": [
    "sns.displot(data = CRM, x=\"Close\", binwidth = 14)"
   ]
  },
  {
   "cell_type": "markdown",
   "id": "2f58f692",
   "metadata": {},
   "source": [
    "Closing price is non-normally distributed and trend is non-stationary, which is also confirmed below."
   ]
  },
  {
   "cell_type": "markdown",
   "id": "caffe784",
   "metadata": {},
   "source": [
    "#### Stationarity Check (Dickey Fuller)"
   ]
  },
  {
   "cell_type": "code",
   "execution_count": 7,
   "id": "8cbdfcea",
   "metadata": {},
   "outputs": [
    {
     "data": {
      "text/plain": [
       "(-0.06392047117515172,\n",
       " 0.9529157133939834,\n",
       " 31,\n",
       " 4409,\n",
       " {'1%': -3.4318340352231185,\n",
       "  '5%': -2.862195763748743,\n",
       "  '10%': -2.567119067159428},\n",
       " 19606.741882699625)"
      ]
     },
     "execution_count": 7,
     "metadata": {},
     "output_type": "execute_result"
    }
   ],
   "source": [
    "ts_test = adfuller(CRM['Close'], autolag = 'AIC')\n",
    "ts_test"
   ]
  },
  {
   "cell_type": "markdown",
   "id": "6531d9f8",
   "metadata": {},
   "source": [
    "#### Transformation using differences"
   ]
  },
  {
   "cell_type": "code",
   "execution_count": 8,
   "id": "c63714db",
   "metadata": {},
   "outputs": [
    {
     "data": {
      "text/html": [
       "<div>\n",
       "<style scoped>\n",
       "    .dataframe tbody tr th:only-of-type {\n",
       "        vertical-align: middle;\n",
       "    }\n",
       "\n",
       "    .dataframe tbody tr th {\n",
       "        vertical-align: top;\n",
       "    }\n",
       "\n",
       "    .dataframe thead th {\n",
       "        text-align: right;\n",
       "    }\n",
       "</style>\n",
       "<table border=\"1\" class=\"dataframe\">\n",
       "  <thead>\n",
       "    <tr style=\"text-align: right;\">\n",
       "      <th></th>\n",
       "      <th>Open</th>\n",
       "      <th>High</th>\n",
       "      <th>Low</th>\n",
       "      <th>Close</th>\n",
       "      <th>Adj Close</th>\n",
       "      <th>Volume</th>\n",
       "    </tr>\n",
       "    <tr>\n",
       "      <th>Date</th>\n",
       "      <th></th>\n",
       "      <th></th>\n",
       "      <th></th>\n",
       "      <th></th>\n",
       "      <th></th>\n",
       "      <th></th>\n",
       "    </tr>\n",
       "  </thead>\n",
       "  <tbody>\n",
       "    <tr>\n",
       "      <th>2004-06-24</th>\n",
       "      <td>0.6375</td>\n",
       "      <td>0.0975</td>\n",
       "      <td>0.4375</td>\n",
       "      <td>-0.1100</td>\n",
       "      <td>-0.1100</td>\n",
       "      <td>-34687200.0</td>\n",
       "    </tr>\n",
       "    <tr>\n",
       "      <th>2004-06-25</th>\n",
       "      <td>-0.2600</td>\n",
       "      <td>-0.2350</td>\n",
       "      <td>-0.1775</td>\n",
       "      <td>-0.2400</td>\n",
       "      <td>-0.2400</td>\n",
       "      <td>-2177200.0</td>\n",
       "    </tr>\n",
       "    <tr>\n",
       "      <th>2004-06-28</th>\n",
       "      <td>-0.1275</td>\n",
       "      <td>-0.1350</td>\n",
       "      <td>-0.0875</td>\n",
       "      <td>0.0500</td>\n",
       "      <td>0.0500</td>\n",
       "      <td>-4439200.0</td>\n",
       "    </tr>\n",
       "    <tr>\n",
       "      <th>2004-06-29</th>\n",
       "      <td>0.0000</td>\n",
       "      <td>0.1225</td>\n",
       "      <td>0.0975</td>\n",
       "      <td>0.1000</td>\n",
       "      <td>0.1000</td>\n",
       "      <td>-158800.0</td>\n",
       "    </tr>\n",
       "    <tr>\n",
       "      <th>2004-06-30</th>\n",
       "      <td>0.1000</td>\n",
       "      <td>0.0600</td>\n",
       "      <td>0.0500</td>\n",
       "      <td>-0.0825</td>\n",
       "      <td>-0.0825</td>\n",
       "      <td>-24400.0</td>\n",
       "    </tr>\n",
       "  </tbody>\n",
       "</table>\n",
       "</div>"
      ],
      "text/plain": [
       "              Open    High     Low   Close  Adj Close      Volume\n",
       "Date                                                             \n",
       "2004-06-24  0.6375  0.0975  0.4375 -0.1100    -0.1100 -34687200.0\n",
       "2004-06-25 -0.2600 -0.2350 -0.1775 -0.2400    -0.2400  -2177200.0\n",
       "2004-06-28 -0.1275 -0.1350 -0.0875  0.0500     0.0500  -4439200.0\n",
       "2004-06-29  0.0000  0.1225  0.0975  0.1000     0.1000   -158800.0\n",
       "2004-06-30  0.1000  0.0600  0.0500 -0.0825    -0.0825    -24400.0"
      ]
     },
     "execution_count": 8,
     "metadata": {},
     "output_type": "execute_result"
    }
   ],
   "source": [
    "CRM_stnry = CRM.diff().dropna(); CRM_stnry.head()"
   ]
  },
  {
   "cell_type": "code",
   "execution_count": 9,
   "id": "dbe8a540",
   "metadata": {},
   "outputs": [
    {
     "data": {
      "image/png": "[encoded data removed]",
      "text/plain": [
       "<Figure size 1080x576 with 1 Axes>"
      ]
     },
     "metadata": {},
     "output_type": "display_data"
    }
   ],
   "source": [
    "sns.set_theme()\n",
    "sns.set(rc = {'figure.figsize':(15,8)})\n",
    "p1 = sns.lineplot(\n",
    "    data = CRM_stnry,\n",
    "    x = \"Date\", y = \"Close\"\n",
    ")"
   ]
  },
  {
   "cell_type": "code",
   "execution_count": 10,
   "id": "a2262326",
   "metadata": {},
   "outputs": [
    {
     "data": {
      "text/plain": [
       "(-11.284501171020382,\n",
       " 1.429095098541365e-20,\n",
       " 30,\n",
       " 4409,\n",
       " {'1%': -3.4318340352231185,\n",
       "  '5%': -2.862195763748743,\n",
       "  '10%': -2.567119067159428},\n",
       " 19601.313864077012)"
      ]
     },
     "execution_count": 10,
     "metadata": {},
     "output_type": "execute_result"
    }
   ],
   "source": [
    "ts_test2 = adfuller(CRM_stnry['Close'], autolag = 'AIC')\n",
    "ts_test2"
   ]
  },
  {
   "cell_type": "markdown",
   "id": "32efb71b",
   "metadata": {},
   "source": [
    "Data is now stationary based on the ADF test"
   ]
  },
  {
   "cell_type": "markdown",
   "id": "1152d628",
   "metadata": {},
   "source": [
    "#### Modeling"
   ]
  },
  {
   "cell_type": "code",
   "execution_count": null,
   "id": "da37d105",
   "metadata": {},
   "outputs": [],
   "source": []
  }
 ],
 "metadata": {
  "kernelspec": {
   "display_name": "Python 3 (ipykernel)",
   "language": "python",
   "name": "python3"
  },
  "language_info": {
   "codemirror_mode": {
    "name": "ipython",
    "version": 3
   },
   "file_extension": ".py",
   "mimetype": "text/x-python",
   "name": "python",
   "nbconvert_exporter": "python",
   "pygments_lexer": "ipython3",
   "version": "3.9.7"
  }
 },
 "nbformat": 4,
 "nbformat_minor": 5
}
