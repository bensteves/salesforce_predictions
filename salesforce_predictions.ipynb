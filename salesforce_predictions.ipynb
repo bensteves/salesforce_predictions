{
 "cells": [
  {
   "cell_type": "markdown",
   "id": "af10d234",
   "metadata": {},
   "source": [
    "# Working with time series"
   ]
  },
  {
   "cell_type": "markdown",
   "id": "ec3034a0",
   "metadata": {},
   "source": [
    "The hope for this project is to practice using time series using three different approaches - ARIMA time series Analysis, Bayesian time series, and LSTM (hopefully in fastai - may have to be configured separately since it runs on a GPU). "
   ]
  },
  {
   "cell_type": "markdown",
   "id": "5cd9955a",
   "metadata": {},
   "source": [
    "### Import libraries"
   ]
  },
  {
   "cell_type": "code",
   "execution_count": 1,
   "id": "29179706",
   "metadata": {},
   "outputs": [],
   "source": [
    "#MCMC/ARIMA packages\n",
    "import pymc3 as pm\n",
    "import pmdarima as ar\n",
    "import arviz as az\n",
    "from statsmodels.tsa.stattools import adfuller\n",
    "from statsmodels.tsa.arima.model import ARIMA\n",
    "\n",
    "#plotting\n",
    "import seaborn as sns\n",
    "import matplotlib.pyplot as plt\n",
    "\n",
    "#data wrangling\n",
    "import pandas as pd\n",
    "import numpy as np"
   ]
  },
  {
   "cell_type": "markdown",
   "id": "5dbc4776",
   "metadata": {},
   "source": [
    "This is just monthly stock trend data for Salesforce (CRM), obtained from yahoo https://finance.yahoo.com/quote/crm/history/"
   ]
  },
  {
   "cell_type": "code",
   "execution_count": 2,
   "id": "0da3c797",
   "metadata": {},
   "outputs": [],
   "source": [
    "CRM = pd.read_csv('data/CRM_daily.csv', index_col='Date',parse_dates=True)\n",
    "#print(CRM.index)"
   ]
  },
  {
   "cell_type": "code",
   "execution_count": 3,
   "id": "f7a634aa",
   "metadata": {},
   "outputs": [
    {
     "data": {
      "text/html": [
       "<div>\n",
       "<style scoped>\n",
       "    .dataframe tbody tr th:only-of-type {\n",
       "        vertical-align: middle;\n",
       "    }\n",
       "\n",
       "    .dataframe tbody tr th {\n",
       "        vertical-align: top;\n",
       "    }\n",
       "\n",
       "    .dataframe thead th {\n",
       "        text-align: right;\n",
       "    }\n",
       "</style>\n",
       "<table border=\"1\" class=\"dataframe\">\n",
       "  <thead>\n",
       "    <tr style=\"text-align: right;\">\n",
       "      <th></th>\n",
       "      <th>Open</th>\n",
       "      <th>High</th>\n",
       "      <th>Low</th>\n",
       "      <th>Close</th>\n",
       "      <th>Adj Close</th>\n",
       "      <th>Volume</th>\n",
       "    </tr>\n",
       "    <tr>\n",
       "      <th>Date</th>\n",
       "      <th></th>\n",
       "      <th></th>\n",
       "      <th></th>\n",
       "      <th></th>\n",
       "      <th></th>\n",
       "      <th></th>\n",
       "    </tr>\n",
       "  </thead>\n",
       "  <tbody>\n",
       "    <tr>\n",
       "      <th>2004-06-23</th>\n",
       "      <td>3.7500</td>\n",
       "      <td>4.3250</td>\n",
       "      <td>3.6875</td>\n",
       "      <td>4.3000</td>\n",
       "      <td>4.3000</td>\n",
       "      <td>43574400</td>\n",
       "    </tr>\n",
       "    <tr>\n",
       "      <th>2004-06-24</th>\n",
       "      <td>4.3875</td>\n",
       "      <td>4.4225</td>\n",
       "      <td>4.1250</td>\n",
       "      <td>4.1900</td>\n",
       "      <td>4.1900</td>\n",
       "      <td>8887200</td>\n",
       "    </tr>\n",
       "    <tr>\n",
       "      <th>2004-06-25</th>\n",
       "      <td>4.1275</td>\n",
       "      <td>4.1875</td>\n",
       "      <td>3.9475</td>\n",
       "      <td>3.9500</td>\n",
       "      <td>3.9500</td>\n",
       "      <td>6710000</td>\n",
       "    </tr>\n",
       "    <tr>\n",
       "      <th>2004-06-28</th>\n",
       "      <td>4.0000</td>\n",
       "      <td>4.0525</td>\n",
       "      <td>3.8600</td>\n",
       "      <td>4.0000</td>\n",
       "      <td>4.0000</td>\n",
       "      <td>2270800</td>\n",
       "    </tr>\n",
       "    <tr>\n",
       "      <th>2004-06-29</th>\n",
       "      <td>4.0000</td>\n",
       "      <td>4.1750</td>\n",
       "      <td>3.9575</td>\n",
       "      <td>4.1000</td>\n",
       "      <td>4.1000</td>\n",
       "      <td>2112000</td>\n",
       "    </tr>\n",
       "    <tr>\n",
       "      <th>2004-06-30</th>\n",
       "      <td>4.1000</td>\n",
       "      <td>4.2350</td>\n",
       "      <td>4.0075</td>\n",
       "      <td>4.0175</td>\n",
       "      <td>4.0175</td>\n",
       "      <td>2087600</td>\n",
       "    </tr>\n",
       "    <tr>\n",
       "      <th>2004-07-01</th>\n",
       "      <td>4.0200</td>\n",
       "      <td>4.0500</td>\n",
       "      <td>3.9750</td>\n",
       "      <td>4.0075</td>\n",
       "      <td>4.0075</td>\n",
       "      <td>1754800</td>\n",
       "    </tr>\n",
       "    <tr>\n",
       "      <th>2004-07-02</th>\n",
       "      <td>4.0250</td>\n",
       "      <td>4.2450</td>\n",
       "      <td>4.0125</td>\n",
       "      <td>4.2450</td>\n",
       "      <td>4.2450</td>\n",
       "      <td>993200</td>\n",
       "    </tr>\n",
       "    <tr>\n",
       "      <th>2004-07-06</th>\n",
       "      <td>4.2325</td>\n",
       "      <td>4.2500</td>\n",
       "      <td>4.1200</td>\n",
       "      <td>4.2500</td>\n",
       "      <td>4.2500</td>\n",
       "      <td>1216800</td>\n",
       "    </tr>\n",
       "    <tr>\n",
       "      <th>2004-07-07</th>\n",
       "      <td>4.2250</td>\n",
       "      <td>4.2250</td>\n",
       "      <td>4.0125</td>\n",
       "      <td>4.0775</td>\n",
       "      <td>4.0775</td>\n",
       "      <td>1787600</td>\n",
       "    </tr>\n",
       "    <tr>\n",
       "      <th>2004-07-08</th>\n",
       "      <td>4.0775</td>\n",
       "      <td>4.0775</td>\n",
       "      <td>3.9150</td>\n",
       "      <td>3.9350</td>\n",
       "      <td>3.9350</td>\n",
       "      <td>2179200</td>\n",
       "    </tr>\n",
       "    <tr>\n",
       "      <th>2004-07-09</th>\n",
       "      <td>3.9850</td>\n",
       "      <td>4.1425</td>\n",
       "      <td>3.9750</td>\n",
       "      <td>4.1000</td>\n",
       "      <td>4.1000</td>\n",
       "      <td>596800</td>\n",
       "    </tr>\n",
       "  </tbody>\n",
       "</table>\n",
       "</div>"
      ],
      "text/plain": [
       "              Open    High     Low   Close  Adj Close    Volume\n",
       "Date                                                           \n",
       "2004-06-23  3.7500  4.3250  3.6875  4.3000     4.3000  43574400\n",
       "2004-06-24  4.3875  4.4225  4.1250  4.1900     4.1900   8887200\n",
       "2004-06-25  4.1275  4.1875  3.9475  3.9500     3.9500   6710000\n",
       "2004-06-28  4.0000  4.0525  3.8600  4.0000     4.0000   2270800\n",
       "2004-06-29  4.0000  4.1750  3.9575  4.1000     4.1000   2112000\n",
       "2004-06-30  4.1000  4.2350  4.0075  4.0175     4.0175   2087600\n",
       "2004-07-01  4.0200  4.0500  3.9750  4.0075     4.0075   1754800\n",
       "2004-07-02  4.0250  4.2450  4.0125  4.2450     4.2450    993200\n",
       "2004-07-06  4.2325  4.2500  4.1200  4.2500     4.2500   1216800\n",
       "2004-07-07  4.2250  4.2250  4.0125  4.0775     4.0775   1787600\n",
       "2004-07-08  4.0775  4.0775  3.9150  3.9350     3.9350   2179200\n",
       "2004-07-09  3.9850  4.1425  3.9750  4.1000     4.1000    596800"
      ]
     },
     "execution_count": 3,
     "metadata": {},
     "output_type": "execute_result"
    }
   ],
   "source": [
    "CRM.head(12)"
   ]
  },
  {
   "cell_type": "code",
   "execution_count": 4,
   "id": "bc0a9cfd",
   "metadata": {},
   "outputs": [
    {
     "data": {
      "text/plain": [
       "(4441, 6)"
      ]
     },
     "execution_count": 4,
     "metadata": {},
     "output_type": "execute_result"
    }
   ],
   "source": [
    "CRM.shape"
   ]
  },
  {
   "cell_type": "code",
   "execution_count": 5,
   "id": "edb32ed2",
   "metadata": {},
   "outputs": [
    {
     "data": {
      "image/png": "[encoded data removed]",
      "text/plain": [
       "<Figure size 1080x576 with 1 Axes>"
      ]
     },
     "metadata": {},
     "output_type": "display_data"
    }
   ],
   "source": [
    "sns.set_theme()\n",
    "sns.set(rc = {'figure.figsize':(15,8)})\n",
    "p1 = sns.lineplot(\n",
    "    data = CRM,\n",
    "    x = \"Date\", y = \"Close\"\n",
    ")"
   ]
  },
  {
   "cell_type": "code",
   "execution_count": 6,
   "id": "03576240",
   "metadata": {},
   "outputs": [
    {
     "data": {
      "text/plain": [
       "<seaborn.axisgrid.FacetGrid at 0x7fa0e17ff2b0>"
      ]
     },
     "execution_count": 6,
     "metadata": {},
     "output_type": "execute_result"
    },
    {
     "data": {
      "image/png": "[encoded data removed]",
      "text/plain": [
       "<Figure size 360x360 with 1 Axes>"
      ]
     },
     "metadata": {},
     "output_type": "display_data"
    }
   ],
   "source": [
    "sns.displot(data = CRM, x=\"Close\", binwidth = 14)"
   ]
  },
  {
   "cell_type": "markdown",
   "id": "9c25a79d",
   "metadata": {},
   "source": [
    "Closing price is non-normally distributed and trend is non-stationary, which is also confirmed below."
   ]
  },
  {
   "cell_type": "markdown",
   "id": "ef1df93d",
   "metadata": {},
   "source": [
    "### Stationarity Check (Dickey Fuller)"
   ]
  },
  {
   "cell_type": "code",
   "execution_count": 7,
   "id": "1cb27139",
   "metadata": {},
   "outputs": [
    {
     "data": {
      "text/plain": [
       "(-0.06392047117515172,\n",
       " 0.9529157133939834,\n",
       " 31,\n",
       " 4409,\n",
       " {'1%': -3.4318340352231185,\n",
       "  '5%': -2.862195763748743,\n",
       "  '10%': -2.567119067159428},\n",
       " 19606.741882699625)"
      ]
     },
     "execution_count": 7,
     "metadata": {},
     "output_type": "execute_result"
    }
   ],
   "source": [
    "ts_test = adfuller(CRM['Close'], autolag = 'AIC')\n",
    "ts_test"
   ]
  },
  {
   "cell_type": "markdown",
   "id": "ef214eea",
   "metadata": {},
   "source": [
    "### Transformation using differences"
   ]
  },
  {
   "cell_type": "markdown",
   "id": "ebb0d257",
   "metadata": {},
   "source": [
    "Though the non-stationary mean issue is taken care of as part of ARIMA, I also wanted to visualize the transformation to understand what it does better, which is done below"
   ]
  },
  {
   "cell_type": "code",
   "execution_count": 8,
   "id": "392f87e9",
   "metadata": {},
   "outputs": [
    {
     "data": {
      "text/html": [
       "<div>\n",
       "<style scoped>\n",
       "    .dataframe tbody tr th:only-of-type {\n",
       "        vertical-align: middle;\n",
       "    }\n",
       "\n",
       "    .dataframe tbody tr th {\n",
       "        vertical-align: top;\n",
       "    }\n",
       "\n",
       "    .dataframe thead th {\n",
       "        text-align: right;\n",
       "    }\n",
       "</style>\n",
       "<table border=\"1\" class=\"dataframe\">\n",
       "  <thead>\n",
       "    <tr style=\"text-align: right;\">\n",
       "      <th></th>\n",
       "      <th>Open</th>\n",
       "      <th>High</th>\n",
       "      <th>Low</th>\n",
       "      <th>Close</th>\n",
       "      <th>Adj Close</th>\n",
       "      <th>Volume</th>\n",
       "    </tr>\n",
       "    <tr>\n",
       "      <th>Date</th>\n",
       "      <th></th>\n",
       "      <th></th>\n",
       "      <th></th>\n",
       "      <th></th>\n",
       "      <th></th>\n",
       "      <th></th>\n",
       "    </tr>\n",
       "  </thead>\n",
       "  <tbody>\n",
       "    <tr>\n",
       "      <th>2004-06-24</th>\n",
       "      <td>0.6375</td>\n",
       "      <td>0.0975</td>\n",
       "      <td>0.4375</td>\n",
       "      <td>-0.1100</td>\n",
       "      <td>-0.1100</td>\n",
       "      <td>-34687200.0</td>\n",
       "    </tr>\n",
       "    <tr>\n",
       "      <th>2004-06-25</th>\n",
       "      <td>-0.2600</td>\n",
       "      <td>-0.2350</td>\n",
       "      <td>-0.1775</td>\n",
       "      <td>-0.2400</td>\n",
       "      <td>-0.2400</td>\n",
       "      <td>-2177200.0</td>\n",
       "    </tr>\n",
       "    <tr>\n",
       "      <th>2004-06-28</th>\n",
       "      <td>-0.1275</td>\n",
       "      <td>-0.1350</td>\n",
       "      <td>-0.0875</td>\n",
       "      <td>0.0500</td>\n",
       "      <td>0.0500</td>\n",
       "      <td>-4439200.0</td>\n",
       "    </tr>\n",
       "    <tr>\n",
       "      <th>2004-06-29</th>\n",
       "      <td>0.0000</td>\n",
       "      <td>0.1225</td>\n",
       "      <td>0.0975</td>\n",
       "      <td>0.1000</td>\n",
       "      <td>0.1000</td>\n",
       "      <td>-158800.0</td>\n",
       "    </tr>\n",
       "    <tr>\n",
       "      <th>2004-06-30</th>\n",
       "      <td>0.1000</td>\n",
       "      <td>0.0600</td>\n",
       "      <td>0.0500</td>\n",
       "      <td>-0.0825</td>\n",
       "      <td>-0.0825</td>\n",
       "      <td>-24400.0</td>\n",
       "    </tr>\n",
       "  </tbody>\n",
       "</table>\n",
       "</div>"
      ],
      "text/plain": [
       "              Open    High     Low   Close  Adj Close      Volume\n",
       "Date                                                             \n",
       "2004-06-24  0.6375  0.0975  0.4375 -0.1100    -0.1100 -34687200.0\n",
       "2004-06-25 -0.2600 -0.2350 -0.1775 -0.2400    -0.2400  -2177200.0\n",
       "2004-06-28 -0.1275 -0.1350 -0.0875  0.0500     0.0500  -4439200.0\n",
       "2004-06-29  0.0000  0.1225  0.0975  0.1000     0.1000   -158800.0\n",
       "2004-06-30  0.1000  0.0600  0.0500 -0.0825    -0.0825    -24400.0"
      ]
     },
     "execution_count": 8,
     "metadata": {},
     "output_type": "execute_result"
    }
   ],
   "source": [
    "CRM_stnry = CRM.diff().dropna(); CRM_stnry.head()"
   ]
  },
  {
   "cell_type": "code",
   "execution_count": 9,
   "id": "32431014",
   "metadata": {},
   "outputs": [
    {
     "data": {
      "image/png": "[encoded data removed]",
      "text/plain": [
       "<Figure size 1080x576 with 1 Axes>"
      ]
     },
     "metadata": {},
     "output_type": "display_data"
    }
   ],
   "source": [
    "sns.set_theme()\n",
    "sns.set(rc = {'figure.figsize':(15,8)})\n",
    "p1 = sns.lineplot(\n",
    "    data = CRM_stnry,\n",
    "    x = \"Date\", y = \"Close\"\n",
    ")"
   ]
  },
  {
   "cell_type": "code",
   "execution_count": 10,
   "id": "56282ad4",
   "metadata": {},
   "outputs": [
    {
     "data": {
      "text/plain": [
       "(-11.284501171020382,\n",
       " 1.429095098541365e-20,\n",
       " 30,\n",
       " 4409,\n",
       " {'1%': -3.4318340352231185,\n",
       "  '5%': -2.862195763748743,\n",
       "  '10%': -2.567119067159428},\n",
       " 19601.313864077012)"
      ]
     },
     "execution_count": 10,
     "metadata": {},
     "output_type": "execute_result"
    }
   ],
   "source": [
    "ts_test2 = adfuller(CRM_stnry['Close'], autolag = 'AIC')\n",
    "ts_test2"
   ]
  },
  {
   "cell_type": "markdown",
   "id": "b6ece184",
   "metadata": {},
   "source": [
    "Data is now stationary based on the ADF test, but we'll use the old data for ARIMA. "
   ]
  },
  {
   "cell_type": "markdown",
   "id": "4e3ff7e9",
   "metadata": {},
   "source": [
    "### Modeling"
   ]
  },
  {
   "cell_type": "code",
   "execution_count": 13,
   "id": "bf336dea",
   "metadata": {},
   "outputs": [],
   "source": [
    "#CRM.index = pd.DatetimeIndex(CRM.index).to_period('D')"
   ]
  },
  {
   "cell_type": "code",
   "execution_count": 20,
   "id": "dfa4c922",
   "metadata": {},
   "outputs": [
    {
     "name": "stdout",
     "output_type": "stream",
     "text": [
      "Performing stepwise search to minimize aic\n",
      " ARIMA(2,1,2)(0,0,0)[0] intercept   : AIC=inf, Time=5.16 sec\n",
      " ARIMA(0,1,0)(0,0,0)[0] intercept   : AIC=19845.833, Time=0.08 sec\n",
      " ARIMA(1,1,0)(0,0,0)[0] intercept   : AIC=19845.661, Time=0.27 sec\n",
      " ARIMA(0,1,1)(0,0,0)[0] intercept   : AIC=19845.660, Time=0.31 sec\n",
      " ARIMA(0,1,0)(0,0,0)[0]             : AIC=19845.922, Time=0.07 sec\n",
      " ARIMA(1,1,1)(0,0,0)[0] intercept   : AIC=19847.660, Time=0.37 sec\n",
      " ARIMA(0,1,2)(0,0,0)[0] intercept   : AIC=19847.659, Time=0.35 sec\n",
      " ARIMA(1,1,2)(0,0,0)[0] intercept   : AIC=19849.607, Time=0.50 sec\n",
      " ARIMA(0,1,1)(0,0,0)[0]             : AIC=19845.843, Time=0.12 sec\n",
      "\n",
      "Best model:  ARIMA(0,1,1)(0,0,0)[0] intercept\n",
      "Total fit time: 7.226 seconds\n"
     ]
    },
    {
     "data": {
      "text/html": [
       "<table class=\"simpletable\">\n",
       "<caption>SARIMAX Results</caption>\n",
       "<tr>\n",
       "  <th>Dep. Variable:</th>           <td>y</td>        <th>  No. Observations:  </th>   <td>4441</td>   \n",
       "</tr>\n",
       "<tr>\n",
       "  <th>Model:</th>           <td>SARIMAX(0, 1, 1)</td> <th>  Log Likelihood     </th> <td>-9919.830</td>\n",
       "</tr>\n",
       "<tr>\n",
       "  <th>Date:</th>            <td>Fri, 11 Feb 2022</td> <th>  AIC                </th> <td>19845.660</td>\n",
       "</tr>\n",
       "<tr>\n",
       "  <th>Time:</th>                <td>00:57:21</td>     <th>  BIC                </th> <td>19864.855</td>\n",
       "</tr>\n",
       "<tr>\n",
       "  <th>Sample:</th>                  <td>0</td>        <th>  HQIC               </th> <td>19852.428</td>\n",
       "</tr>\n",
       "<tr>\n",
       "  <th></th>                      <td> - 4441</td>     <th>                     </th>     <td> </td>    \n",
       "</tr>\n",
       "<tr>\n",
       "  <th>Covariance Type:</th>        <td>opg</td>       <th>                     </th>     <td> </td>    \n",
       "</tr>\n",
       "</table>\n",
       "<table class=\"simpletable\">\n",
       "<tr>\n",
       "      <td></td>         <th>coef</th>     <th>std err</th>      <th>z</th>      <th>P>|z|</th>  <th>[0.025</th>    <th>0.975]</th>  \n",
       "</tr>\n",
       "<tr>\n",
       "  <th>intercept</th> <td>    0.0491</td> <td>    0.034</td> <td>    1.445</td> <td> 0.148</td> <td>   -0.017</td> <td>    0.116</td>\n",
       "</tr>\n",
       "<tr>\n",
       "  <th>ma.L1</th>     <td>   -0.0222</td> <td>    0.006</td> <td>   -3.710</td> <td> 0.000</td> <td>   -0.034</td> <td>   -0.010</td>\n",
       "</tr>\n",
       "<tr>\n",
       "  <th>sigma2</th>    <td>    5.1064</td> <td>    0.017</td> <td>  297.627</td> <td> 0.000</td> <td>    5.073</td> <td>    5.140</td>\n",
       "</tr>\n",
       "</table>\n",
       "<table class=\"simpletable\">\n",
       "<tr>\n",
       "  <th>Ljung-Box (L1) (Q):</th>      <td>0.00</td>  <th>  Jarque-Bera (JB):  </th> <td>2282772.77</td>\n",
       "</tr>\n",
       "<tr>\n",
       "  <th>Prob(Q):</th>                 <td>1.00</td>  <th>  Prob(JB):          </th>    <td>0.00</td>   \n",
       "</tr>\n",
       "<tr>\n",
       "  <th>Heteroskedasticity (H):</th> <td>125.84</td> <th>  Skew:              </th>    <td>2.05</td>   \n",
       "</tr>\n",
       "<tr>\n",
       "  <th>Prob(H) (two-sided):</th>     <td>0.00</td>  <th>  Kurtosis:          </th>   <td>114.01</td>  \n",
       "</tr>\n",
       "</table><br/><br/>Warnings:<br/>[1] Covariance matrix calculated using the outer product of gradients (complex-step)."
      ],
      "text/plain": [
       "<class 'statsmodels.iolib.summary.Summary'>\n",
       "\"\"\"\n",
       "                               SARIMAX Results                                \n",
       "==============================================================================\n",
       "Dep. Variable:                      y   No. Observations:                 4441\n",
       "Model:               SARIMAX(0, 1, 1)   Log Likelihood               -9919.830\n",
       "Date:                Fri, 11 Feb 2022   AIC                          19845.660\n",
       "Time:                        00:57:21   BIC                          19864.855\n",
       "Sample:                             0   HQIC                         19852.428\n",
       "                               - 4441                                         \n",
       "Covariance Type:                  opg                                         \n",
       "==============================================================================\n",
       "                 coef    std err          z      P>|z|      [0.025      0.975]\n",
       "------------------------------------------------------------------------------\n",
       "intercept      0.0491      0.034      1.445      0.148      -0.017       0.116\n",
       "ma.L1         -0.0222      0.006     -3.710      0.000      -0.034      -0.010\n",
       "sigma2         5.1064      0.017    297.627      0.000       5.073       5.140\n",
       "===================================================================================\n",
       "Ljung-Box (L1) (Q):                   0.00   Jarque-Bera (JB):           2282772.77\n",
       "Prob(Q):                              1.00   Prob(JB):                         0.00\n",
       "Heteroskedasticity (H):             125.84   Skew:                             2.05\n",
       "Prob(H) (two-sided):                  0.00   Kurtosis:                       114.01\n",
       "===================================================================================\n",
       "\n",
       "Warnings:\n",
       "[1] Covariance matrix calculated using the outer product of gradients (complex-step).\n",
       "\"\"\""
      ]
     },
     "execution_count": 20,
     "metadata": {},
     "output_type": "execute_result"
    }
   ],
   "source": [
    "test_arima_params = ar.auto_arima(CRM['Close'], trace = True, suppress_warnings = True)\n",
    "test_arima_params.summary()"
   ]
  },
  {
   "cell_type": "markdown",
   "id": "163a102d",
   "metadata": {},
   "source": [
    "ARIMA(0,1,1) gives us the best AIC, so we'll use that in model fitting"
   ]
  },
  {
   "cell_type": "code",
   "execution_count": 18,
   "id": "15e14e49",
   "metadata": {},
   "outputs": [],
   "source": [
    "arima_model = ARIMA(CRM['Close'], order = (0,1,1))\n",
    "arima_fit = arima_model.fit()"
   ]
  },
  {
   "cell_type": "code",
   "execution_count": 19,
   "id": "f64d0dc7",
   "metadata": {},
   "outputs": [
    {
     "name": "stdout",
     "output_type": "stream",
     "text": [
      "                               SARIMAX Results                                \n",
      "==============================================================================\n",
      "Dep. Variable:                  Close   No. Observations:                 4441\n",
      "Model:                 ARIMA(0, 1, 1)   Log Likelihood               -9920.921\n",
      "Date:                Fri, 11 Feb 2022   AIC                          19845.843\n",
      "Time:                        00:55:28   BIC                          19858.640\n",
      "Sample:                    06-23-2004   HQIC                         19850.355\n",
      "                         - 02-09-2022                                         \n",
      "Covariance Type:                  opg                                         \n",
      "==============================================================================\n",
      "                 coef    std err          z      P>|z|      [0.025      0.975]\n",
      "------------------------------------------------------------------------------\n",
      "ma.L1         -0.0217      0.006     -3.646      0.000      -0.033      -0.010\n",
      "sigma2         5.1090      0.017    304.904      0.000       5.076       5.142\n",
      "===================================================================================\n",
      "Ljung-Box (L1) (Q):                   0.00   Jarque-Bera (JB):           2281435.03\n",
      "Prob(Q):                              0.97   Prob(JB):                         0.00\n",
      "Heteroskedasticity (H):             127.44   Skew:                             2.05\n",
      "Prob(H) (two-sided):                  0.00   Kurtosis:                       113.97\n",
      "===================================================================================\n",
      "\n",
      "Warnings:\n",
      "[1] Covariance matrix calculated using the outer product of gradients (complex-step).\n"
     ]
    }
   ],
   "source": [
    "print(arima_fit.summary())"
   ]
  },
  {
   "cell_type": "markdown",
   "id": "945aeb58",
   "metadata": {},
   "source": [
    "Residuals are normally distributed with a mean very close to 0"
   ]
  },
  {
   "cell_type": "code",
   "execution_count": 32,
   "id": "2cdaac9c",
   "metadata": {},
   "outputs": [
    {
     "data": {
      "image/png": "[encoded data removed]",
      "text/plain": [
       "<Figure size 1080x576 with 1 Axes>"
      ]
     },
     "metadata": {},
     "output_type": "display_data"
    }
   ],
   "source": [
    "residuals.plot.kde()\n",
    "plt.xlim(-20, 20)\n",
    "plt.show()"
   ]
  },
  {
   "cell_type": "markdown",
   "id": "6f63ef4a",
   "metadata": {},
   "source": [
    "### Forecasting"
   ]
  },
  {
   "cell_type": "code",
   "execution_count": 40,
   "id": "ece33035",
   "metadata": {},
   "outputs": [
    {
     "name": "stdout",
     "output_type": "stream",
     "text": [
      "TRAIN: 3774.850000   TEST: 666.150000\n"
     ]
    }
   ],
   "source": [
    "num_rows = len(CRM)\n",
    "split_size = (num_rows * .85)\n",
    "train = split_size\n",
    "test = num_rows - split_size\n",
    "print(\"TRAIN: %f   TEST: %f\" %(train, test))"
   ]
  },
  {
   "cell_type": "code",
   "execution_count": null,
   "id": "0cfb8dc6",
   "metadata": {},
   "outputs": [],
   "source": []
  }
 ],
 "metadata": {
  "kernelspec": {
   "display_name": "Python 3 (ipykernel)",
   "language": "python",
   "name": "python3"
  },
  "language_info": {
   "codemirror_mode": {
    "name": "ipython",
    "version": 3
   },
   "file_extension": ".py",
   "mimetype": "text/x-python",
   "name": "python",
   "nbconvert_exporter": "python",
   "pygments_lexer": "ipython3",
   "version": "3.9.7"
  }
 },
 "nbformat": 4,
 "nbformat_minor": 5
}
